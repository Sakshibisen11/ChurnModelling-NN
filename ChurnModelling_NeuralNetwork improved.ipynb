{
  "nbformat": 4,
  "nbformat_minor": 0,
  "metadata": {
    "colab": {
      "name": "ChurnModelling NeuralNetwork.ipynb",
      "provenance": [],
      "collapsed_sections": []
    },
    "kernelspec": {
      "name": "python3",
      "display_name": "Python 3"
    },
    "language_info": {
      "name": "python"
    }
  },
  "cells": [
    {
      "cell_type": "code",
      "execution_count": 21,
      "metadata": {
        "id": "09eIvvwDQhrD"
      },
      "outputs": [],
      "source": [
        "import pandas as pd\n",
        "import numpy as np\n",
        "import matplotlib.pyplot as plt\n",
        "import tensorflow as tf\n",
        "from sklearn.preprocessing import LabelEncoder\n",
        "from sklearn.model_selection import train_test_split"
      ]
    },
    {
      "cell_type": "code",
      "source": [
        "data=pd.read_csv(\"/content/Churn_Modelling.csv\")\n",
        "data.head(3)"
      ],
      "metadata": {
        "colab": {
          "base_uri": "https://localhost:8080/",
          "height": 207
        },
        "id": "sAvML5CiTQX_",
        "outputId": "e2f35206-1387-4250-d34a-cdf1188dc884"
      },
      "execution_count": 4,
      "outputs": [
        {
          "output_type": "execute_result",
          "data": {
            "text/plain": [
              "   RowNumber  CustomerId   Surname  CreditScore Geography  Gender  Age  \\\n",
              "0          1    15634602  Hargrave          619    France  Female   42   \n",
              "1          2    15647311      Hill          608     Spain  Female   41   \n",
              "2          3    15619304      Onio          502    France  Female   42   \n",
              "\n",
              "   Tenure    Balance  NumOfProducts  HasCrCard  IsActiveMember  \\\n",
              "0       2       0.00              1          1               1   \n",
              "1       1   83807.86              1          0               1   \n",
              "2       8  159660.80              3          1               0   \n",
              "\n",
              "   EstimatedSalary  Exited  \n",
              "0        101348.88       1  \n",
              "1        112542.58       0  \n",
              "2        113931.57       1  "
            ],
            "text/html": [
              "\n",
              "  <div id=\"df-276daba8-6047-4967-be81-271cc7bb0f3f\">\n",
              "    <div class=\"colab-df-container\">\n",
              "      <div>\n",
              "<style scoped>\n",
              "    .dataframe tbody tr th:only-of-type {\n",
              "        vertical-align: middle;\n",
              "    }\n",
              "\n",
              "    .dataframe tbody tr th {\n",
              "        vertical-align: top;\n",
              "    }\n",
              "\n",
              "    .dataframe thead th {\n",
              "        text-align: right;\n",
              "    }\n",
              "</style>\n",
              "<table border=\"1\" class=\"dataframe\">\n",
              "  <thead>\n",
              "    <tr style=\"text-align: right;\">\n",
              "      <th></th>\n",
              "      <th>RowNumber</th>\n",
              "      <th>CustomerId</th>\n",
              "      <th>Surname</th>\n",
              "      <th>CreditScore</th>\n",
              "      <th>Geography</th>\n",
              "      <th>Gender</th>\n",
              "      <th>Age</th>\n",
              "      <th>Tenure</th>\n",
              "      <th>Balance</th>\n",
              "      <th>NumOfProducts</th>\n",
              "      <th>HasCrCard</th>\n",
              "      <th>IsActiveMember</th>\n",
              "      <th>EstimatedSalary</th>\n",
              "      <th>Exited</th>\n",
              "    </tr>\n",
              "  </thead>\n",
              "  <tbody>\n",
              "    <tr>\n",
              "      <th>0</th>\n",
              "      <td>1</td>\n",
              "      <td>15634602</td>\n",
              "      <td>Hargrave</td>\n",
              "      <td>619</td>\n",
              "      <td>France</td>\n",
              "      <td>Female</td>\n",
              "      <td>42</td>\n",
              "      <td>2</td>\n",
              "      <td>0.00</td>\n",
              "      <td>1</td>\n",
              "      <td>1</td>\n",
              "      <td>1</td>\n",
              "      <td>101348.88</td>\n",
              "      <td>1</td>\n",
              "    </tr>\n",
              "    <tr>\n",
              "      <th>1</th>\n",
              "      <td>2</td>\n",
              "      <td>15647311</td>\n",
              "      <td>Hill</td>\n",
              "      <td>608</td>\n",
              "      <td>Spain</td>\n",
              "      <td>Female</td>\n",
              "      <td>41</td>\n",
              "      <td>1</td>\n",
              "      <td>83807.86</td>\n",
              "      <td>1</td>\n",
              "      <td>0</td>\n",
              "      <td>1</td>\n",
              "      <td>112542.58</td>\n",
              "      <td>0</td>\n",
              "    </tr>\n",
              "    <tr>\n",
              "      <th>2</th>\n",
              "      <td>3</td>\n",
              "      <td>15619304</td>\n",
              "      <td>Onio</td>\n",
              "      <td>502</td>\n",
              "      <td>France</td>\n",
              "      <td>Female</td>\n",
              "      <td>42</td>\n",
              "      <td>8</td>\n",
              "      <td>159660.80</td>\n",
              "      <td>3</td>\n",
              "      <td>1</td>\n",
              "      <td>0</td>\n",
              "      <td>113931.57</td>\n",
              "      <td>1</td>\n",
              "    </tr>\n",
              "  </tbody>\n",
              "</table>\n",
              "</div>\n",
              "      <button class=\"colab-df-convert\" onclick=\"convertToInteractive('df-276daba8-6047-4967-be81-271cc7bb0f3f')\"\n",
              "              title=\"Convert this dataframe to an interactive table.\"\n",
              "              style=\"display:none;\">\n",
              "        \n",
              "  <svg xmlns=\"http://www.w3.org/2000/svg\" height=\"24px\"viewBox=\"0 0 24 24\"\n",
              "       width=\"24px\">\n",
              "    <path d=\"M0 0h24v24H0V0z\" fill=\"none\"/>\n",
              "    <path d=\"M18.56 5.44l.94 2.06.94-2.06 2.06-.94-2.06-.94-.94-2.06-.94 2.06-2.06.94zm-11 1L8.5 8.5l.94-2.06 2.06-.94-2.06-.94L8.5 2.5l-.94 2.06-2.06.94zm10 10l.94 2.06.94-2.06 2.06-.94-2.06-.94-.94-2.06-.94 2.06-2.06.94z\"/><path d=\"M17.41 7.96l-1.37-1.37c-.4-.4-.92-.59-1.43-.59-.52 0-1.04.2-1.43.59L10.3 9.45l-7.72 7.72c-.78.78-.78 2.05 0 2.83L4 21.41c.39.39.9.59 1.41.59.51 0 1.02-.2 1.41-.59l7.78-7.78 2.81-2.81c.8-.78.8-2.07 0-2.86zM5.41 20L4 18.59l7.72-7.72 1.47 1.35L5.41 20z\"/>\n",
              "  </svg>\n",
              "      </button>\n",
              "      \n",
              "  <style>\n",
              "    .colab-df-container {\n",
              "      display:flex;\n",
              "      flex-wrap:wrap;\n",
              "      gap: 12px;\n",
              "    }\n",
              "\n",
              "    .colab-df-convert {\n",
              "      background-color: #E8F0FE;\n",
              "      border: none;\n",
              "      border-radius: 50%;\n",
              "      cursor: pointer;\n",
              "      display: none;\n",
              "      fill: #1967D2;\n",
              "      height: 32px;\n",
              "      padding: 0 0 0 0;\n",
              "      width: 32px;\n",
              "    }\n",
              "\n",
              "    .colab-df-convert:hover {\n",
              "      background-color: #E2EBFA;\n",
              "      box-shadow: 0px 1px 2px rgba(60, 64, 67, 0.3), 0px 1px 3px 1px rgba(60, 64, 67, 0.15);\n",
              "      fill: #174EA6;\n",
              "    }\n",
              "\n",
              "    [theme=dark] .colab-df-convert {\n",
              "      background-color: #3B4455;\n",
              "      fill: #D2E3FC;\n",
              "    }\n",
              "\n",
              "    [theme=dark] .colab-df-convert:hover {\n",
              "      background-color: #434B5C;\n",
              "      box-shadow: 0px 1px 3px 1px rgba(0, 0, 0, 0.15);\n",
              "      filter: drop-shadow(0px 1px 2px rgba(0, 0, 0, 0.3));\n",
              "      fill: #FFFFFF;\n",
              "    }\n",
              "  </style>\n",
              "\n",
              "      <script>\n",
              "        const buttonEl =\n",
              "          document.querySelector('#df-276daba8-6047-4967-be81-271cc7bb0f3f button.colab-df-convert');\n",
              "        buttonEl.style.display =\n",
              "          google.colab.kernel.accessAllowed ? 'block' : 'none';\n",
              "\n",
              "        async function convertToInteractive(key) {\n",
              "          const element = document.querySelector('#df-276daba8-6047-4967-be81-271cc7bb0f3f');\n",
              "          const dataTable =\n",
              "            await google.colab.kernel.invokeFunction('convertToInteractive',\n",
              "                                                     [key], {});\n",
              "          if (!dataTable) return;\n",
              "\n",
              "          const docLinkHtml = 'Like what you see? Visit the ' +\n",
              "            '<a target=\"_blank\" href=https://colab.research.google.com/notebooks/data_table.ipynb>data table notebook</a>'\n",
              "            + ' to learn more about interactive tables.';\n",
              "          element.innerHTML = '';\n",
              "          dataTable['output_type'] = 'display_data';\n",
              "          await google.colab.output.renderOutput(dataTable, element);\n",
              "          const docLink = document.createElement('div');\n",
              "          docLink.innerHTML = docLinkHtml;\n",
              "          element.appendChild(docLink);\n",
              "        }\n",
              "      </script>\n",
              "    </div>\n",
              "  </div>\n",
              "  "
            ]
          },
          "metadata": {},
          "execution_count": 4
        }
      ]
    },
    {
      "cell_type": "code",
      "source": [
        "data.drop(['RowNumber','CustomerId','Surname'],axis=1,inplace=True)"
      ],
      "metadata": {
        "id": "YQzfVuhrTQaM"
      },
      "execution_count": 5,
      "outputs": []
    },
    {
      "cell_type": "code",
      "source": [
        "data.isnull().sum()"
      ],
      "metadata": {
        "id": "jwKE9LSyTQeh",
        "colab": {
          "base_uri": "https://localhost:8080/"
        },
        "outputId": "ea577b8a-1d87-48d2-e6ca-16df095ae216"
      },
      "execution_count": 6,
      "outputs": [
        {
          "output_type": "execute_result",
          "data": {
            "text/plain": [
              "CreditScore        0\n",
              "Geography          0\n",
              "Gender             0\n",
              "Age                0\n",
              "Tenure             0\n",
              "Balance            0\n",
              "NumOfProducts      0\n",
              "HasCrCard          0\n",
              "IsActiveMember     0\n",
              "EstimatedSalary    0\n",
              "Exited             0\n",
              "dtype: int64"
            ]
          },
          "metadata": {},
          "execution_count": 6
        }
      ]
    },
    {
      "cell_type": "code",
      "source": [
        "data.info()"
      ],
      "metadata": {
        "id": "zCfSZycbTQhi",
        "colab": {
          "base_uri": "https://localhost:8080/"
        },
        "outputId": "df9e8ed8-790a-4272-ea06-0e12ea6d69c5"
      },
      "execution_count": 7,
      "outputs": [
        {
          "output_type": "stream",
          "name": "stdout",
          "text": [
            "<class 'pandas.core.frame.DataFrame'>\n",
            "RangeIndex: 10000 entries, 0 to 9999\n",
            "Data columns (total 11 columns):\n",
            " #   Column           Non-Null Count  Dtype  \n",
            "---  ------           --------------  -----  \n",
            " 0   CreditScore      10000 non-null  int64  \n",
            " 1   Geography        10000 non-null  object \n",
            " 2   Gender           10000 non-null  object \n",
            " 3   Age              10000 non-null  int64  \n",
            " 4   Tenure           10000 non-null  int64  \n",
            " 5   Balance          10000 non-null  float64\n",
            " 6   NumOfProducts    10000 non-null  int64  \n",
            " 7   HasCrCard        10000 non-null  int64  \n",
            " 8   IsActiveMember   10000 non-null  int64  \n",
            " 9   EstimatedSalary  10000 non-null  float64\n",
            " 10  Exited           10000 non-null  int64  \n",
            "dtypes: float64(2), int64(7), object(2)\n",
            "memory usage: 859.5+ KB\n"
          ]
        }
      ]
    },
    {
      "cell_type": "markdown",
      "source": [
        "# Label Encoding"
      ],
      "metadata": {
        "id": "Ye_IfsHecIFX"
      }
    },
    {
      "cell_type": "code",
      "source": [
        "data_types_dict=dict(data.dtypes)\n",
        "data_types_dict\n",
        "Label_encoder_collection={}\n",
        "for col_name,data_type in data_types_dict.items():\n",
        "  if data_type=='object':\n",
        "    Le=LabelEncoder()\n",
        "    data[col_name]=Le.fit_transform(data[col_name])\n",
        "    Label_encoder_collection[col_name]=Le\n"
      ],
      "metadata": {
        "id": "4SXljHEDb16p"
      },
      "execution_count": 8,
      "outputs": []
    },
    {
      "cell_type": "code",
      "source": [
        "data.info()"
      ],
      "metadata": {
        "colab": {
          "base_uri": "https://localhost:8080/"
        },
        "id": "bO5LV6Ixb19R",
        "outputId": "01153eb2-e134-4809-e84c-d8aabd953a6f"
      },
      "execution_count": 9,
      "outputs": [
        {
          "output_type": "stream",
          "name": "stdout",
          "text": [
            "<class 'pandas.core.frame.DataFrame'>\n",
            "RangeIndex: 10000 entries, 0 to 9999\n",
            "Data columns (total 11 columns):\n",
            " #   Column           Non-Null Count  Dtype  \n",
            "---  ------           --------------  -----  \n",
            " 0   CreditScore      10000 non-null  int64  \n",
            " 1   Geography        10000 non-null  int64  \n",
            " 2   Gender           10000 non-null  int64  \n",
            " 3   Age              10000 non-null  int64  \n",
            " 4   Tenure           10000 non-null  int64  \n",
            " 5   Balance          10000 non-null  float64\n",
            " 6   NumOfProducts    10000 non-null  int64  \n",
            " 7   HasCrCard        10000 non-null  int64  \n",
            " 8   IsActiveMember   10000 non-null  int64  \n",
            " 9   EstimatedSalary  10000 non-null  float64\n",
            " 10  Exited           10000 non-null  int64  \n",
            "dtypes: float64(2), int64(9)\n",
            "memory usage: 859.5 KB\n"
          ]
        }
      ]
    },
    {
      "cell_type": "markdown",
      "source": [
        "Splitting data"
      ],
      "metadata": {
        "id": "59TS8x0bfZdi"
      }
    },
    {
      "cell_type": "code",
      "source": [
        "X=data.iloc[:,:-1].values.astype(np.float32)  #iloc[:,start_col:end_col]\n",
        "Y=data.iloc[:,-1].values.astype(int)"
      ],
      "metadata": {
        "id": "ac0Haie3b1_S"
      },
      "execution_count": 10,
      "outputs": []
    },
    {
      "cell_type": "code",
      "source": [
        "Xtrain,Xtest,Ytrain,Ytest=train_test_split(X,Y,test_size=0.2,random_state=4) #setting random state helps to shuffle data identically each time ,so that we get the same result everytime"
      ],
      "metadata": {
        "id": "rNXRM5fIhaE1"
      },
      "execution_count": 11,
      "outputs": []
    },
    {
      "cell_type": "markdown",
      "source": [
        "Neural Network"
      ],
      "metadata": {
        "id": "RBukpykjKXTl"
      }
    },
    {
      "cell_type": "code",
      "source": [
        "model=tf.keras.models.Sequential()\n",
        "model.add(tf.keras.Input(shape=(10,)))\n",
        "model.add(tf.keras.layers.Dense(32))  #Adding neurons to first layer\n",
        "model.add(tf.keras.layers.Dense(32)) #Second layer\n",
        "model.add(tf.keras.layers.Dense(1,activation='sigmoid')) #Sigmoid layer to predict 0/1\n",
        "model.summary()"
      ],
      "metadata": {
        "colab": {
          "base_uri": "https://localhost:8080/"
        },
        "id": "zS1X0v9ThaKK",
        "outputId": "23334e49-a445-455b-ae66-e38c12327c26"
      },
      "execution_count": 14,
      "outputs": [
        {
          "output_type": "stream",
          "name": "stdout",
          "text": [
            "Model: \"sequential_2\"\n",
            "_________________________________________________________________\n",
            " Layer (type)                Output Shape              Param #   \n",
            "=================================================================\n",
            " dense (Dense)               (None, 32)                352       \n",
            "                                                                 \n",
            " dense_1 (Dense)             (None, 32)                1056      \n",
            "                                                                 \n",
            " dense_2 (Dense)             (None, 1)                 33        \n",
            "                                                                 \n",
            "=================================================================\n",
            "Total params: 1,441\n",
            "Trainable params: 1,441\n",
            "Non-trainable params: 0\n",
            "_________________________________________________________________\n"
          ]
        }
      ]
    },
    {
      "cell_type": "code",
      "source": [
        "#create optimizer and compile the model\n",
        "Optimizer=tf.keras.optimizers.Adam(learning_rate=0.001)\n",
        "model.compile(Optimizer,loss='binary_crossentropy',metrics=['accuracy'])"
      ],
      "metadata": {
        "id": "DNdv4bxihaHa"
      },
      "execution_count": 15,
      "outputs": []
    },
    {
      "cell_type": "code",
      "source": [
        "history=model.fit(Xtrain,Ytrain,validation_data=(Xtest,Ytest),epochs=20)"
      ],
      "metadata": {
        "colab": {
          "base_uri": "https://localhost:8080/"
        },
        "id": "EGcqiDqdhaML",
        "outputId": "2a72d468-c2ac-45c2-f333-fb436d39040d"
      },
      "execution_count": 16,
      "outputs": [
        {
          "output_type": "stream",
          "name": "stdout",
          "text": [
            "Epoch 1/20\n",
            "250/250 [==============================] - 1s 3ms/step - loss: 368.7251 - accuracy: 0.6587 - val_loss: 118.0034 - val_accuracy: 0.8020\n",
            "Epoch 2/20\n",
            "250/250 [==============================] - 1s 2ms/step - loss: 179.3757 - accuracy: 0.6705 - val_loss: 335.3376 - val_accuracy: 0.2725\n",
            "Epoch 3/20\n",
            "250/250 [==============================] - 1s 2ms/step - loss: 195.7620 - accuracy: 0.6649 - val_loss: 206.5797 - val_accuracy: 0.6025\n",
            "Epoch 4/20\n",
            "250/250 [==============================] - 1s 2ms/step - loss: 195.0089 - accuracy: 0.6779 - val_loss: 394.9840 - val_accuracy: 0.6945\n",
            "Epoch 5/20\n",
            "250/250 [==============================] - 1s 3ms/step - loss: 190.7473 - accuracy: 0.6704 - val_loss: 291.4225 - val_accuracy: 0.8020\n",
            "Epoch 6/20\n",
            "250/250 [==============================] - 1s 4ms/step - loss: 191.5125 - accuracy: 0.6758 - val_loss: 122.8825 - val_accuracy: 0.6050\n",
            "Epoch 7/20\n",
            "250/250 [==============================] - 1s 4ms/step - loss: 178.0017 - accuracy: 0.6784 - val_loss: 149.8794 - val_accuracy: 0.3170\n",
            "Epoch 8/20\n",
            "250/250 [==============================] - 1s 3ms/step - loss: 193.2255 - accuracy: 0.6686 - val_loss: 148.5746 - val_accuracy: 0.3250\n",
            "Epoch 9/20\n",
            "250/250 [==============================] - 1s 2ms/step - loss: 178.8930 - accuracy: 0.6815 - val_loss: 190.7359 - val_accuracy: 0.3100\n",
            "Epoch 10/20\n",
            "250/250 [==============================] - 1s 2ms/step - loss: 168.9677 - accuracy: 0.6842 - val_loss: 80.7783 - val_accuracy: 0.8020\n",
            "Epoch 11/20\n",
            "250/250 [==============================] - 1s 2ms/step - loss: 151.8555 - accuracy: 0.6815 - val_loss: 52.5555 - val_accuracy: 0.7520\n",
            "Epoch 12/20\n",
            "250/250 [==============================] - 1s 2ms/step - loss: 161.0211 - accuracy: 0.6842 - val_loss: 233.4482 - val_accuracy: 0.8020\n",
            "Epoch 13/20\n",
            "250/250 [==============================] - 1s 2ms/step - loss: 129.5668 - accuracy: 0.6920 - val_loss: 252.6487 - val_accuracy: 0.4490\n",
            "Epoch 14/20\n",
            "250/250 [==============================] - 1s 2ms/step - loss: 158.9721 - accuracy: 0.6845 - val_loss: 133.5753 - val_accuracy: 0.7960\n",
            "Epoch 15/20\n",
            "250/250 [==============================] - 1s 2ms/step - loss: 143.9436 - accuracy: 0.6704 - val_loss: 248.4758 - val_accuracy: 0.8020\n",
            "Epoch 16/20\n",
            "250/250 [==============================] - 1s 2ms/step - loss: 158.6361 - accuracy: 0.6749 - val_loss: 265.9585 - val_accuracy: 0.5140\n",
            "Epoch 17/20\n",
            "250/250 [==============================] - 1s 2ms/step - loss: 159.2775 - accuracy: 0.6718 - val_loss: 156.2547 - val_accuracy: 0.7190\n",
            "Epoch 18/20\n",
            "250/250 [==============================] - 1s 2ms/step - loss: 96.3364 - accuracy: 0.6764 - val_loss: 213.8005 - val_accuracy: 0.6950\n",
            "Epoch 19/20\n",
            "250/250 [==============================] - 1s 2ms/step - loss: 105.0436 - accuracy: 0.6877 - val_loss: 69.4973 - val_accuracy: 0.4615\n",
            "Epoch 20/20\n",
            "250/250 [==============================] - 1s 2ms/step - loss: 134.5968 - accuracy: 0.6866 - val_loss: 110.6251 - val_accuracy: 0.7880\n"
          ]
        }
      ]
    },
    {
      "cell_type": "code",
      "source": [
        "#Accuracy plot\n",
        "plt.plot(history.history['accuracy'])\n",
        "plt.plot(history.history['val_accuracy'])\n",
        "plt.title('model accuracy')\n",
        "plt.ylabel('accuracy')\n",
        "plt.xlabel('epoch')\n",
        "plt.legend(['train','validation'],loc='upper left')\n",
        "plt.show()\n",
        "\n",
        "#loss plot\n",
        "plt.plot(history.history['loss'])\n",
        "plt.plot(history.history['val_loss'])\n",
        "plt.title('model loss')\n",
        "plt.ylabel('loss')\n",
        "plt.xlabel('epoch')\n",
        "plt.legend(['train','validation'],loc='upper left')\n",
        "plt.show()\n",
        " \n",
        "#There are lot of fluctuations in validation Accuracy graph which concludes model learning\n",
        "# is unstable. Validation and train fluctuation must be similar progressing\n",
        "#Loss graph is fine and both train and validation graph are decreasing gradually"
      ],
      "metadata": {
        "colab": {
          "base_uri": "https://localhost:8080/",
          "height": 573
        },
        "id": "ELcxm_CVOlC5",
        "outputId": "34819c40-1932-434e-a846-12177de52c2f"
      },
      "execution_count": 17,
      "outputs": [
        {
          "output_type": "display_data",
          "data": {
            "text/plain": [
              "<Figure size 432x288 with 1 Axes>"
            ],
            "image/png": "[encoded data removed]"
          },
          "metadata": {
            "needs_background": "light"
          }
        },
        {
          "output_type": "display_data",
          "data": {
            "text/plain": [
              "<Figure size 432x288 with 1 Axes>"
            ],
            "image/png": "[encoded data removed]"
          },
          "metadata": {
            "needs_background": "light"
          }
        }
      ]
    },
    {
      "cell_type": "code",
      "source": [
        "#Collect predictions\n",
        "predictions=np.round(model.predict(Xtest))  #Round off the values since SIgmoid function gives output brtween 0 and 1\n"
      ],
      "metadata": {
        "id": "LsrZDEtvOlFj"
      },
      "execution_count": 18,
      "outputs": []
    },
    {
      "cell_type": "code",
      "source": [
        "#Check Accuracy\n",
        "from sklearn.metrics import accuracy_score,confusion_matrix\n",
        "accuracy_score(Ytest,predictions)"
      ],
      "metadata": {
        "colab": {
          "base_uri": "https://localhost:8080/"
        },
        "id": "DXqCQfOfOlHk",
        "outputId": "f4888a80-cbe0-4865-9c3e-a887d60fcbaa"
      },
      "execution_count": 19,
      "outputs": [
        {
          "output_type": "execute_result",
          "data": {
            "text/plain": [
              "0.788"
            ]
          },
          "metadata": {},
          "execution_count": 19
        }
      ]
    },
    {
      "cell_type": "code",
      "source": [
        "confusion_matrix(Ytest,predictions)"
      ],
      "metadata": {
        "colab": {
          "base_uri": "https://localhost:8080/"
        },
        "id": "VL9Uc5e6R7dZ",
        "outputId": "f383c7e3-8e82-4cc3-922a-a7d7a9147c9b"
      },
      "execution_count": 20,
      "outputs": [
        {
          "output_type": "execute_result",
          "data": {
            "text/plain": [
              "array([[1565,   39],\n",
              "       [ 385,   11]])"
            ]
          },
          "metadata": {},
          "execution_count": 20
        }
      ]
    },
    {
      "cell_type": "markdown",
      "source": [
        "Improvements"
      ],
      "metadata": {
        "id": "FU7Ha9ZIVo7S"
      }
    },
    {
      "cell_type": "code",
      "source": [
        "#Add class weights\n",
        "from sklearn.utils.class_weight import compute_class_weight\n",
        "class_weights=compute_class_weight(class_weight='balanced',classes=np.unique(Ytrain),y=Ytrain)\n",
        "model_class_weights={}\n",
        "#converting list output to dictionary\n",
        "for e ,weight in enumerate(class_weights):\n",
        "  model_class_weights[e]=weight\n",
        "model_class_weights    #higher weight suggests less frequency"
      ],
      "metadata": {
        "colab": {
          "base_uri": "https://localhost:8080/"
        },
        "id": "k5OTKPnYVnkS",
        "outputId": "befe3034-8ce6-4ba3-c35f-b9cef3cd0ddf"
      },
      "execution_count": 23,
      "outputs": [
        {
          "output_type": "execute_result",
          "data": {
            "text/plain": [
              "{0: 0.6290297216543481, 1: 2.437538086532602}"
            ]
          },
          "metadata": {},
          "execution_count": 23
        }
      ]
    },
    {
      "cell_type": "code",
      "source": [
        "#increase units in dense layer and also increase the number of layers\n",
        "#add batchnormalization to layers\n",
        "#add dropout after layers\n",
        "model=tf.keras.models.Sequential()\n",
        "model.add(tf.keras.Input(shape=(10,)))\n",
        "model.add(tf.keras.layers.BatchNormalization())\n",
        "model.add(tf.keras.layers.Dense(128,activation='relu'))\n",
        "model.add(tf.keras.layers.Dropout(0.2))\n",
        "model.add(tf.keras.layers.BatchNormalization())\n",
        "model.add(tf.keras.layers.Dense(64,activation='relu'))\n",
        "model.add(tf.keras.layers.Dropout(0.2))\n",
        "model.add(tf.keras.layers.BatchNormalization())\n",
        "model.add(tf.keras.layers.Dense(32,activation='relu'))\n",
        "model.add(tf.keras.layers.Dense(1,activation='sigmoid'))\n",
        "model.summary()\n",
        "\n",
        "\n"
      ],
      "metadata": {
        "colab": {
          "base_uri": "https://localhost:8080/"
        },
        "id": "CEALNO9OkyEz",
        "outputId": "e759fe0b-dd23-4905-c0f7-7fd7c162e1fd"
      },
      "execution_count": 24,
      "outputs": [
        {
          "output_type": "stream",
          "name": "stdout",
          "text": [
            "Model: \"sequential_3\"\n",
            "_________________________________________________________________\n",
            " Layer (type)                Output Shape              Param #   \n",
            "=================================================================\n",
            " batch_normalization (BatchN  (None, 10)               40        \n",
            " ormalization)                                                   \n",
            "                                                                 \n",
            " dense_3 (Dense)             (None, 128)               1408      \n",
            "                                                                 \n",
            " dropout (Dropout)           (None, 128)               0         \n",
            "                                                                 \n",
            " batch_normalization_1 (Batc  (None, 128)              512       \n",
            " hNormalization)                                                 \n",
            "                                                                 \n",
            " dense_4 (Dense)             (None, 64)                8256      \n",
            "                                                                 \n",
            " dropout_1 (Dropout)         (None, 64)                0         \n",
            "                                                                 \n",
            " batch_normalization_2 (Batc  (None, 64)               256       \n",
            " hNormalization)                                                 \n",
            "                                                                 \n",
            " dense_5 (Dense)             (None, 32)                2080      \n",
            "                                                                 \n",
            " dense_6 (Dense)             (None, 1)                 33        \n",
            "                                                                 \n",
            "=================================================================\n",
            "Total params: 12,585\n",
            "Trainable params: 12,181\n",
            "Non-trainable params: 404\n",
            "_________________________________________________________________\n"
          ]
        }
      ]
    },
    {
      "cell_type": "code",
      "source": [
        "#create optimizer and compile model\n",
        "Optimizer=tf.keras.optimizers.Adam(learning_rate=0.001)\n",
        "model.compile(Optimizer,loss='binary_crossentropy',metrics=['accuracy'])"
      ],
      "metadata": {
        "id": "M1umCjV0Vnmi"
      },
      "execution_count": 25,
      "outputs": []
    },
    {
      "cell_type": "code",
      "source": [
        "history=model.fit(Xtrain,Ytrain,validation_data=(Xtest,Ytest),epochs=20,class_weight=model_class_weights)\n"
      ],
      "metadata": {
        "colab": {
          "base_uri": "https://localhost:8080/"
        },
        "id": "UzMq0e2WVno5",
        "outputId": "59df5afd-5b3a-4fa7-dd03-a45f7cff19aa"
      },
      "execution_count": 26,
      "outputs": [
        {
          "output_type": "stream",
          "name": "stdout",
          "text": [
            "Epoch 1/20\n",
            "250/250 [==============================] - 2s 4ms/step - loss: 0.5948 - accuracy: 0.6672 - val_loss: 0.5235 - val_accuracy: 0.7490\n",
            "Epoch 2/20\n",
            "250/250 [==============================] - 1s 3ms/step - loss: 0.5334 - accuracy: 0.7279 - val_loss: 0.4791 - val_accuracy: 0.7595\n",
            "Epoch 3/20\n",
            "250/250 [==============================] - 1s 3ms/step - loss: 0.5161 - accuracy: 0.7349 - val_loss: 0.4674 - val_accuracy: 0.7585\n",
            "Epoch 4/20\n",
            "250/250 [==============================] - 1s 4ms/step - loss: 0.5090 - accuracy: 0.7458 - val_loss: 0.4636 - val_accuracy: 0.7760\n",
            "Epoch 5/20\n",
            "250/250 [==============================] - 1s 3ms/step - loss: 0.4971 - accuracy: 0.7538 - val_loss: 0.4433 - val_accuracy: 0.7965\n",
            "Epoch 6/20\n",
            "250/250 [==============================] - 1s 3ms/step - loss: 0.4999 - accuracy: 0.7469 - val_loss: 0.4423 - val_accuracy: 0.8005\n",
            "Epoch 7/20\n",
            "250/250 [==============================] - 1s 3ms/step - loss: 0.4974 - accuracy: 0.7575 - val_loss: 0.4254 - val_accuracy: 0.8200\n",
            "Epoch 8/20\n",
            "250/250 [==============================] - 1s 3ms/step - loss: 0.4934 - accuracy: 0.7576 - val_loss: 0.4221 - val_accuracy: 0.8110\n",
            "Epoch 9/20\n",
            "250/250 [==============================] - 1s 3ms/step - loss: 0.4928 - accuracy: 0.7638 - val_loss: 0.4725 - val_accuracy: 0.7685\n",
            "Epoch 10/20\n",
            "250/250 [==============================] - 1s 3ms/step - loss: 0.4844 - accuracy: 0.7561 - val_loss: 0.4394 - val_accuracy: 0.8035\n",
            "Epoch 11/20\n",
            "250/250 [==============================] - 1s 3ms/step - loss: 0.4782 - accuracy: 0.7732 - val_loss: 0.4677 - val_accuracy: 0.7795\n",
            "Epoch 12/20\n",
            "250/250 [==============================] - 1s 3ms/step - loss: 0.4820 - accuracy: 0.7651 - val_loss: 0.4370 - val_accuracy: 0.8055\n",
            "Epoch 13/20\n",
            "250/250 [==============================] - 1s 3ms/step - loss: 0.4819 - accuracy: 0.7684 - val_loss: 0.4546 - val_accuracy: 0.7950\n",
            "Epoch 14/20\n",
            "250/250 [==============================] - 1s 3ms/step - loss: 0.4752 - accuracy: 0.7732 - val_loss: 0.4502 - val_accuracy: 0.8015\n",
            "Epoch 15/20\n",
            "250/250 [==============================] - 1s 3ms/step - loss: 0.4786 - accuracy: 0.7631 - val_loss: 0.4289 - val_accuracy: 0.8125\n",
            "Epoch 16/20\n",
            "250/250 [==============================] - 1s 3ms/step - loss: 0.4764 - accuracy: 0.7713 - val_loss: 0.4294 - val_accuracy: 0.8145\n",
            "Epoch 17/20\n",
            "250/250 [==============================] - 1s 4ms/step - loss: 0.4712 - accuracy: 0.7699 - val_loss: 0.4559 - val_accuracy: 0.7995\n",
            "Epoch 18/20\n",
            "250/250 [==============================] - 1s 3ms/step - loss: 0.4794 - accuracy: 0.7692 - val_loss: 0.4427 - val_accuracy: 0.8060\n",
            "Epoch 19/20\n",
            "250/250 [==============================] - 1s 3ms/step - loss: 0.4748 - accuracy: 0.7645 - val_loss: 0.4307 - val_accuracy: 0.8135\n",
            "Epoch 20/20\n",
            "250/250 [==============================] - 1s 3ms/step - loss: 0.4705 - accuracy: 0.7709 - val_loss: 0.4253 - val_accuracy: 0.8140\n"
          ]
        }
      ]
    },
    {
      "cell_type": "code",
      "source": [
        "#Accuracy plot\n",
        "plt.plot(history.history['accuracy'])\n",
        "plt.plot(history.history['val_accuracy'])\n",
        "plt.title('model accuracy')\n",
        "plt.ylabel('accuracy')\n",
        "plt.xlabel('epoch')\n",
        "plt.legend(['train','validation'],loc='upper left')\n",
        "plt.show()\n",
        "\n",
        "#loss plot\n",
        "plt.plot(history.history['loss'])\n",
        "plt.plot(history.history['val_loss'])\n",
        "plt.title('model loss')\n",
        "plt.ylabel('loss')\n",
        "plt.xlabel('epoch')\n",
        "plt.legend(['train','validation'],loc='upper left')\n",
        "plt.show()"
      ],
      "metadata": {
        "colab": {
          "base_uri": "https://localhost:8080/",
          "height": 1000
        },
        "id": "ghA0O48LVnrN",
        "outputId": "b71e2569-1bb5-4d69-de2f-369534422ffa"
      },
      "execution_count": 28,
      "outputs": [
        {
          "output_type": "display_data",
          "data": {
            "text/plain": [
              "<Figure size 432x288 with 1 Axes>"
            ],
            "image/png": "[encoded data removed]"
          },
          "metadata": {
            "needs_background": "light"
          }
        },
        {
          "output_type": "display_data",
          "data": {
            "text/plain": [
              "<Figure size 432x288 with 1 Axes>"
            ],
            "image/png": "[encoded data removed]"
          },
          "metadata": {
            "needs_background": "light"
          }
        },
        {
          "output_type": "display_data",
          "data": {
            "text/plain": [
              "<Figure size 432x288 with 1 Axes>"
            ],
            "image/png": "[encoded data removed]"
          },
          "metadata": {
            "needs_background": "light"
          }
        },
        {
          "output_type": "display_data",
          "data": {
            "text/plain": [
              "<Figure size 432x288 with 1 Axes>"
            ],
            "image/png": "[encoded data removed]"
          },
          "metadata": {
            "needs_background": "light"
          }
        }
      ]
    },
    {
      "cell_type": "code",
      "source": [
        "#Collect predictions\n",
        "predictions=np.round(model.predict(Xtest))  #Round off the values since SIgmoid function gives output brtween 0 and 1\n"
      ],
      "metadata": {
        "id": "UEHq8GrxVntS"
      },
      "execution_count": 29,
      "outputs": []
    },
    {
      "cell_type": "code",
      "source": [
        "#Check Accuracy\n",
        "from sklearn.metrics import accuracy_score,confusion_matrix\n",
        "accuracy_score(Ytest,predictions)"
      ],
      "metadata": {
        "colab": {
          "base_uri": "https://localhost:8080/"
        },
        "id": "ysvtBoXJq-9U",
        "outputId": "dbff84cf-0587-4a33-a61e-c0855007154e"
      },
      "execution_count": 30,
      "outputs": [
        {
          "output_type": "execute_result",
          "data": {
            "text/plain": [
              "0.814"
            ]
          },
          "metadata": {},
          "execution_count": 30
        }
      ]
    },
    {
      "cell_type": "code",
      "source": [
        "confusion_matrix(Ytest,predictions) #improved"
      ],
      "metadata": {
        "colab": {
          "base_uri": "https://localhost:8080/"
        },
        "id": "jfCBYOebq_AA",
        "outputId": "2b293da7-0624-4395-80a4-5ff019d33078"
      },
      "execution_count": 31,
      "outputs": [
        {
          "output_type": "execute_result",
          "data": {
            "text/plain": [
              "array([[1326,  278],\n",
              "       [  94,  302]])"
            ]
          },
          "metadata": {},
          "execution_count": 31
        }
      ]
    }
  ]
}